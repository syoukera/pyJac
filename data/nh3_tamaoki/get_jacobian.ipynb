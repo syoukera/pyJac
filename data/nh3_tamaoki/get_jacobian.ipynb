{
 "cells": [
  {
   "cell_type": "code",
   "execution_count": 3,
   "id": "78e9f992",
   "metadata": {},
   "outputs": [],
   "source": [
    "import pyjacob\n",
    "import pandas as pd\n",
    "import cantera as ct\n",
    "import numpy as np\n",
    "from numpy import linalg as LA\n",
    "import matplotlib.pyplot as plt"
   ]
  },
  {
   "cell_type": "code",
   "execution_count": 4,
   "id": "7706c0ef",
   "metadata": {},
   "outputs": [],
   "source": [
    "# Setting of plot\n",
    "\n",
    "from matplotlib.ticker import (MultipleLocator, FormatStrFormatter,\n",
    "                               AutoMinorLocator)\n",
    "# Setting of font\n",
    "plt.rcParams['font.family'] = 'serif'\n",
    "plt.rcParams['font.serif'] = ['Times New Roman'] + plt.rcParams['font.serif']\n",
    "plt.rcParams[\"font.size\"] = 12 \n",
    "\n",
    "plt.rcParams[\"mathtext.fontset\"] = 'stix'\n",
    "\n",
    "## Please use these code while plotting\n",
    "# plt.xlabel('$1/a_{\\mathrm{1}}$ [s]', fontsize=14)\n",
    "# plt.ylabel('$T_{\\mathrm{max}}$ [K]', fontsize=14)\n",
    "# plt.tick_params(which='both', direction='in')\n",
    "# plt.legend(frameon=False)\n",
    "# ax = plt.gca()\n",
    "# ax.spines[\"right\"].set_color(\"none\")\n",
    "# ax.spines[\"top\"].set_color(\"none\")\n",
    "\n",
    "## Please use this code while saving\n",
    "# name_fig = 'IDT_CH4_f0.5_20atm_GRI_O6e02_CONP'\n",
    "# plt.savefig(name_fig + '.eps', format = 'eps', bbox_inches=\"tight\")\n",
    "# plt.savefig(name_fig + '.png', format = 'png', bbox_inches=\"tight\", dpi=100)"
   ]
  },
  {
   "cell_type": "code",
   "execution_count": 5,
   "id": "4f7b8a47",
   "metadata": {},
   "outputs": [],
   "source": [
    "#create gas from original mechanism file gri30.cti\n",
    "gas = ct.Solution('NH3_Tamaoki.yaml')\n",
    "#reorder the gas to match pyJac\n",
    "n2_ind = gas.species_index('N2')\n",
    "specs = gas.species()[:]\n",
    "gas = ct.Solution(thermo='IdealGas', kinetics='GasKinetics',\n",
    "        species=specs[:n2_ind] + specs[n2_ind + 1:] + [specs[n2_ind]],\n",
    "        reactions=gas.reactions())"
   ]
  },
  {
   "cell_type": "code",
   "execution_count": 6,
   "id": "0639c0c7",
   "metadata": {},
   "outputs": [
    {
     "data": {
      "text/plain": [
       "array([-1.08116392e+09, -1.76427490e+08, -3.67957861e+06, -2.55534051e+06,\n",
       "       -5.58537047e+05, -3.10070493e+05, -2.41445372e+05, -1.54809704e+05,\n",
       "       -1.17094391e+05, -8.05809210e+04, -1.31191525e+04, -1.11564491e+04,\n",
       "       -8.34486935e+02, -6.58327613e+02, -3.68024696e+02, -1.54382972e+02,\n",
       "       -8.74886113e+01, -2.16184002e+01, -2.08412892e+01, -6.70521241e+00,\n",
       "       -1.50847696e+00, -1.00318163e-01, -2.96902986e-03, -1.48959412e-03,\n",
       "       -4.35153962e-05, -2.29088776e-08, -2.84926268e-11, -7.98032036e-13,\n",
       "        0.00000000e+00,  0.00000000e+00,  0.00000000e+00,  1.81268880e-07,\n",
       "        1.70664836e+01])"
      ]
     },
     "execution_count": 6,
     "metadata": {},
     "output_type": "execute_result"
    }
   ],
   "source": [
    "def get_eigvals(gas, Tin, Taf):\n",
    "\n",
    "    #setup the state vector\n",
    "    y = np.zeros(gas.n_species)\n",
    "    y[0] = gas.T\n",
    "    y[1:] = gas.Y[:-1]\n",
    "\n",
    "    #create a dydt vector\n",
    "    dydt = np.zeros_like(y)\n",
    "    pyjacob.py_dydt(0, P, y, dydt)\n",
    "\n",
    "    #create a jacobian vector\n",
    "    jac = np.zeros(gas.n_species * gas.n_species)\n",
    "\n",
    "    #evaluate the Jacobian\n",
    "    pyjacob.py_eval_jacobian(0, P, y, jac)\n",
    "\n",
    "    # reshape, and transpose\n",
    "    jac = jac.reshape((gas.n_species,gas.n_species)).T\n",
    "\n",
    "    #rescaling using (Taf - Tin)\n",
    "    jac[0,:] *= 1.0/(Taf -Tin)\n",
    "    jac[:,0] *= (Taf -Tin)\n",
    "\n",
    "    # get eigan values\n",
    "    eigvals = LA.eigvals(jac)\n",
    "\n",
    "    return eigvals\n",
    "\n",
    "#set the gas state\n",
    "Tin = 1000\n",
    "P = ct.one_atm\n",
    "# C2H4 + 3O2 = 2CO2 + 2H2O\n",
    "gas.TPY = Tin, P, \"NH3:1.0, O2:3, N2:11.285\"\n",
    "\n",
    "# get the diabatic flame temperature Taf\n",
    "oldstate = gas.TPY\n",
    "gas.equilibrate('HP')\n",
    "Taf = gas.T\n",
    "gas.TPY=oldstate\n",
    "\n",
    "evals = get_eigvals(gas, Tin, Taf)\n",
    "ser = np.sort(evals.real)\n",
    "ser"
   ]
  },
  {
   "cell_type": "code",
   "execution_count": 7,
   "id": "0c3526e2",
   "metadata": {},
   "outputs": [
    {
     "data": {
      "text/plain": [
       "array([0.        , 0.        , 0.        , 0.19627085, 0.        ,\n",
       "       0.        , 0.        , 0.        , 0.        , 0.        ,\n",
       "       0.        , 0.        , 0.06542362, 0.        , 0.        ,\n",
       "       0.        , 0.        , 0.        , 0.        , 0.        ,\n",
       "       0.        , 0.        , 0.        , 0.        , 0.        ,\n",
       "       0.        , 0.        , 0.        , 0.        , 0.        ,\n",
       "       0.        , 0.        , 0.73830553])"
      ]
     },
     "execution_count": 7,
     "metadata": {},
     "output_type": "execute_result"
    }
   ],
   "source": [
    "gas.Y"
   ]
  },
  {
   "cell_type": "code",
   "execution_count": null,
   "id": "675ca051",
   "metadata": {},
   "outputs": [],
   "source": []
  }
 ],
 "metadata": {
  "kernelspec": {
   "display_name": "pyjac",
   "language": "python",
   "name": "python3"
  },
  "language_info": {
   "codemirror_mode": {
    "name": "ipython",
    "version": 3
   },
   "file_extension": ".py",
   "mimetype": "text/x-python",
   "name": "python",
   "nbconvert_exporter": "python",
   "pygments_lexer": "ipython3",
   "version": "3.6.13"
  }
 },
 "nbformat": 4,
 "nbformat_minor": 5
}
